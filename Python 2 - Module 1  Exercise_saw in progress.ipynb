{
 "cells": [
  {
   "cell_type": "markdown",
   "metadata": {},
   "source": [
    "# OOP - Class "
   ]
  },
  {
   "cell_type": "markdown",
   "metadata": {},
   "source": [
    "## Exercise 1: \n",
    "Create a Player class with a name, a position, and a speed attributes. Set the initial value of speed to 1 and create any necessary methods.\n",
    "Then, \n",
    "1. Create two Player objects and print information about both players.\n",
    "2. Assign 8 to player 1's speed\n",
    "3. print information about both players."
   ]
  },
  {
   "cell_type": "code",
   "execution_count": 22,
   "metadata": {},
   "outputs": [
    {
     "name": "stdout",
     "output_type": "stream",
     "text": [
      "~~~~~~~~~~~~~~~~~~~~~~~~~~~~~~~~~~~~~~~~~~~~~~~~~~~~~~~~~~~~~~~~~~~~~~~~~~~~~~~~~~~~~~~~~~~~~~~~~~~~\n",
      "The characters name is Chad and plays Safety. His speed is 9\n",
      "The characters name is Darius and plays Linebacker. His speed is 8\n",
      "~~~~~~~~~~~~~~~~~~~~~~~~~~~~~~~~~~~~~~~~~~~~~~~~~~~~~~~~~~~~~~~~~~~~~~~~~~~~~~~~~~~~~~~~~~~~~~~~~~~~\n",
      "The characters name is Chad and plays Safety. His speed is 8\n",
      "The characters name is Darius and plays Linebacker. His speed is 9\n",
      "~~~~~~~~~~~~~~~~~~~~~~~~~~~~~~~~~~~~~~~~~~~~~~~~~~~~~~~~~~~~~~~~~~~~~~~~~~~~~~~~~~~~~~~~~~~~~~~~~~~~\n"
     ]
    }
   ],
   "source": [
    "class Player:\n",
    "    \"\"\"This is a player\"\"\"\n",
    "    def __init__(self, name, position) :\n",
    "        \"\"\"Initialization method name, position, and speed\"\"\"\n",
    "        self.name = name\n",
    "        self.position = position\n",
    "        self.speed = 1\n",
    "        \n",
    "    def fast(self, speed) :\n",
    "        self.speed += speed\n",
    "    \n",
    "    def print_info(self) :\n",
    "        if len(self.name) == 0 :\n",
    "            print(\"No information provided.\")\n",
    "        else :\n",
    "            print(f\"The characters name is {self.name} and plays {self.position}. His speed is {self.speed}\")\n",
    "\n",
    "# just testing some stuff out here and playing with the class/function/attributes            \n",
    "#sPlayer = Player(\"\",\"\",\"\")\n",
    "#sPlayer.print_info()\n",
    "print(\"~~\"*50)\n",
    "\n",
    "PlayerOne = Player(\"Chad\", \"Safety\")\n",
    "PlayerOne.fast(8)\n",
    "PlayerTwo = Player(\"Darius\", \"Linebacker\")\n",
    "PlayerTwo.fast(7)\n",
    "PlayerOne.print_info()\n",
    "PlayerTwo.print_info()\n",
    "print(\"~~\"*50)\n",
    "\n",
    "PlayerOne = Player(\"Chad\", \"Safety\")\n",
    "PlayerOne.fast(7)\n",
    "PlayerTwo = Player(\"Darius\", \"Linebacker\")\n",
    "PlayerTwo.fast(8)\n",
    "PlayerOne.print_info()\n",
    "PlayerTwo.print_info()\n",
    "print(\"~~\"*50)"
   ]
  },
  {
   "cell_type": "markdown",
   "metadata": {},
   "source": [
    "## Exercise 2: \n",
    "Create a class called Rectangle with height and length attributes and has following methods: \n",
    "- perimeter() : returns a perimeter of a rectangle object\n",
    "- area() : returns an area of a rectangle object\n",
    "\n",
    "Then,\n",
    "1. create two instances of Rectangle class\n",
    "2. print each rectangle's perimeter and determine which rectangle has larger perimeter\n",
    "3. print each rectangle's area and determine which rectangle has larger area"
   ]
  },
  {
   "cell_type": "code",
   "execution_count": 26,
   "metadata": {},
   "outputs": [],
   "source": [
    "#create the class, its attributes, and functions\n",
    "\n",
    "class Rectangle :\n",
    "    def __init__(self, height, length):\n",
    "        \"\"\"This is a shape with height and length attributes\"\"\"\n",
    "        self.height = height\n",
    "        self.length = length\n",
    "        \n",
    "    def perimeter(self):\n",
    "        return (self.length*2)+(self.height*2)\n",
    "    \n",
    "    def area(self):\n",
    "        return self.length*self.height\n",
    "    \n",
    "    def print_info(self):\n",
    "        print(f\"hieght: {self.height} | length: {self.length}\")\n",
    "        return\n",
    "    \n",
    "    "
   ]
  },
  {
   "cell_type": "code",
   "execution_count": 38,
   "metadata": {},
   "outputs": [
    {
     "name": "stdout",
     "output_type": "stream",
     "text": [
      "hieght: 8 | length: 2\n",
      "hieght: 5 | length: 5\n",
      "~~~~~~~~~~~~~~~~~~~~~~~~~~~~~~~~~~~~~~~~~~~~~~~~~~~~~~~~~~~~~~~~~~~~~~~~~~~~~~~~~~~~~~~~~~~~~~~~~~~~\n",
      "Perimeter calculation:\n",
      "The permiter of the first rectangle is 20\n",
      "The permiter of the first rectangle is 20\n",
      "~~~~~~~~~~~~~~~~~~~~~~~~~~~~~~~~~~~~~~~~~~~~~~~~~~~~~~~~~~~~~~~~~~~~~~~~~~~~~~~~~~~~~~~~~~~~~~~~~~~~\n",
      "Area calculation:\n",
      "The area of the first rectangle is 16\n",
      "The area of the first rectangle is 25\n",
      "~~~~~~~~~~~~~~~~~~~~~~~~~~~~~~~~~~~~~~~~~~~~~~~~~~~~~~~~~~~~~~~~~~~~~~~~~~~~~~~~~~~~~~~~~~~~~~~~~~~~\n"
     ]
    }
   ],
   "source": [
    "#create two instacned of class\n",
    "\n",
    "Rect1 = Rectangle(8,2)\n",
    "Rect2 = Rectangle(5,5)\n",
    "Rect1.print_info()\n",
    "Rect2.print_info()\n",
    "print(\"~~\"*50)\n",
    "\n",
    "print(\"Perimeter calculation:\")\n",
    "print(f\"The permiter of the first rectangle is {Rect1.perimeter()}\")\n",
    "print(f\"The permiter of the first rectangle is {Rect2.perimeter()}\")\n",
    "print(\"~~\"*50)\n",
    "\n",
    "print(\"Area calculation:\")\n",
    "print(f\"The area of the first rectangle is {Rect1.area()}\")\n",
    "print(f\"The area of the first rectangle is {Rect2.area()}\")\n",
    "print(\"~~\"*50)"
   ]
  },
  {
   "cell_type": "code",
   "execution_count": null,
   "metadata": {},
   "outputs": [],
   "source": [
    "## Exercise 3: \n",
    "Create a class called Triangle with height and base attributes and has following methods:\n",
    "\n",
    "- perimeter() : returns a perimeter of a right triangle object\n",
    "- area() : returns an area of a right triangle object\n",
    "\n",
    "Then,\n",
    "\n",
    "- create two instances of Triangle class\n",
    "- print each triangle's perimeter and determine which triangle has larger perimeter\n",
    "- print each triangle's area and determine which triangle has larger area\n",
    "\n",
    "Use \n",
    "- perimeter of a right triangle = height + base + Square-Root((height \\** 2) + (base \\** 2)) \n",
    "- area of a right triangle = ( height * base ) / 2\n",
    "\n",
    "You'll need to <b>import math</b> library and use <b>math.sqrt()</b> function.\n",
    "\n"
   ]
  },
  {
   "cell_type": "code",
   "execution_count": 42,
   "metadata": {},
   "outputs": [],
   "source": [
    "#create the class\n",
    "\n",
    "class RightTriangle: \n",
    "    def __init__(self, height, base) :\n",
    "        \"\"\"This is a shape with height and base attributes\"\"\"\n",
    "        self.side1 = side1\n",
    "        self.side2 = side2\n",
    "        self.base = base\n",
    "    \n",
    "    def perimeter(self):\n",
    "        return self.base + self.height + ((selft.base ** 2) + (self.height ** 2))\n",
    "    \n",
    "    def area(self):\n",
    "        return (.5) * (self.length*self.height)\n",
    "    \n",
    "    def print_info(self):\n",
    "        print(f\"hieght: {self.height} | length: {self.length}\")\n",
    "        return       \n",
    "    \n",
    "    "
   ]
  },
  {
   "cell_type": "code",
   "execution_count": 43,
   "metadata": {},
   "outputs": [
    {
     "name": "stdout",
     "output_type": "stream",
     "text": [
      "hieght: 2 | length: 8\n",
      "hieght: 4 | length: 6\n",
      "~~~~~~~~~~~~~~~~~~~~~~~~~~~~~~~~~~~~~~~~~~~~~~~~~~~~~~~~~~~~~~~~~~~~~~~~~~~~~~~~~~~~~~~~~~~~~~~~~~~~\n",
      "Perimeter calculation:\n",
      "The permiter of the first rectangle is 20\n",
      "The permiter of the first rectangle is 20\n",
      "~~~~~~~~~~~~~~~~~~~~~~~~~~~~~~~~~~~~~~~~~~~~~~~~~~~~~~~~~~~~~~~~~~~~~~~~~~~~~~~~~~~~~~~~~~~~~~~~~~~~\n",
      "Area calculation:\n",
      "The area of the first rectangle is 16\n",
      "The area of the first rectangle is 24\n",
      "~~~~~~~~~~~~~~~~~~~~~~~~~~~~~~~~~~~~~~~~~~~~~~~~~~~~~~~~~~~~~~~~~~~~~~~~~~~~~~~~~~~~~~~~~~~~~~~~~~~~\n"
     ]
    }
   ],
   "source": [
    "# tried running it without the math lib\n",
    "\n",
    "Rtangle1 = Rectangle(2,8)\n",
    "Rtangle2 = Rectangle(4,6)\n",
    "Rtangle1.print_info()\n",
    "Rtangle2.print_info()\n",
    "print(\"~~\"*50)\n",
    "\n",
    "print(\"Perimeter calculation:\")\n",
    "print(f\"The permiter of the first rectangle is {Rtangle1.perimeter()}\")\n",
    "print(f\"The permiter of the first rectangle is {Rtangle2.perimeter()}\")\n",
    "print(\"~~\"*50)\n",
    "\n",
    "print(\"Area calculation:\")\n",
    "print(f\"The area of the first rectangle is {Rtangle1.area()}\")\n",
    "print(f\"The area of the first rectangle is {Rtangle2.area()}\")\n",
    "print(\"~~\"*50)"
   ]
  },
  {
   "cell_type": "markdown",
   "metadata": {},
   "source": [
    "## Exercise 4: \n",
    "Write a program that maintains a list of movies, and the user can list all the movies, add a movie to the list, or delete a movie from the list. All input/output are done at the program level, not at a class level.\n",
    "\n",
    "\n",
    "For Python 1 Day 4 Challenge Exercise (see below), you wrote a program that maintains a list of movies, and the user can list all the movies, add a movie to the list, or delete a movie from the list. Modify that program to use a <b>Movie object</b> to store name, year, and genre of a movie. Create any method you need to access these attributes but your method can not use <b>print</b> function. \n",
    "\n",
    "Additionally, create any function you need to make sure program neat. You may use <b>print</b> function in your function.\n",
    "\n",
    "------------------\n",
    "\n",
    "Challenge:\n",
    "Write a program that maintains a list of movies, and the user can list all the movies, add a movie to the list, or delete a movie from the list.\n",
    "\n",
    "Example\n",
    "\n",
    "###### COMMAND MENU\n",
    "```\n",
    "list - list all movies\n",
    "add - add a movie\n",
    "del - delete a movie\n",
    "exit - exit program \n",
    "```\n",
    "\n",
    "###### Command: list\n",
    "``` \n",
    " 1. Toy Story\n",
    " 2. Lion King\n",
    " 3. Frozen\n",
    " ```\n",
    "\n",
    "###### Command: add\n",
    " ```\n",
    " Name: Snow White\n",
    " Snow White was added.\n",
    " ```\n",
    "\n",
    "###### Command: del\n",
    "```\n",
    " Number: 3\n",
    " Frozen was deleted.```\n",
    "\n"
   ]
  },
  {
   "cell_type": "code",
   "execution_count": null,
   "metadata": {},
   "outputs": [],
   "source": [
    "#make the class\n",
    "class movielist :\n",
    "    \n",
    "    def __init__(self, name, year, genre):\n",
    "        \"\"\"the attributes of the list\"\"\"\n",
    "        self.name = name\n",
    "        self.year = year\n",
    "        self.genre = genre\n",
    "        return"
   ]
  },
  {
   "cell_type": "markdown",
   "metadata": {},
   "source": [
    "## Exercise 5: \n",
    "Create a class called Employee with \n",
    "- firstname,\n",
    "- lastname, \n",
    "- joined_date\n",
    "- active\n",
    "\n",
    "attributes and methods to retrieve each attribute.\n",
    "\n",
    "Then, write a program to \n",
    "- add 10 or more employees\n",
    "- print all employees' information\n",
    "- print all active employees' information\n",
    "\n",
    "Create any methods you need but all print statements should be called from your program, not in your class method!\n",
    "\n",
    "You must use below data set (but can add more):\n",
    "\n",
    "    data = [{\"first\":\"elmo\", \"last\":\"monster\", \"year\": 2000},\n",
    "            {\"first\":\"count\", \"last\":\"count\", \"year\": 1819},\n",
    "            {\"first\":\"big\", \"last\":\"bird\", \"year\": 2011},\n",
    "            {\"first\":\"cookie\", \"last\":\"monster\", \"year\": 2002},\n",
    "            {\"first\":\"bert\", \"last\": \"person\", \"year\": 2013},\n",
    "            {\"first\":\"ernie\", \"last\": \"person\", \"year\": 2013},\n",
    "            {\"first\":\"oscar\", \"last\": \"grouch\", \"year\": 1999},\n",
    "            {\"first\":\"zoe\", \"last\": \"cutie\", \"year\": 2015},\n",
    "            {\"first\":\"abby\", \"last\": \"cadabby\", \"year\": 2016},\n",
    "            {\"first\":\"prairie\", \"last\": \"dawn\", \"year\": 2020}\n",
    "       ]"
   ]
  },
  {
   "cell_type": "code",
   "execution_count": null,
   "metadata": {},
   "outputs": [],
   "source": []
  },
  {
   "cell_type": "code",
   "execution_count": null,
   "metadata": {},
   "outputs": [],
   "source": []
  }
 ],
 "metadata": {
  "kernelspec": {
   "display_name": "Python 3",
   "language": "python",
   "name": "python3"
  },
  "language_info": {
   "codemirror_mode": {
    "name": "ipython",
    "version": 3
   },
   "file_extension": ".py",
   "mimetype": "text/x-python",
   "name": "python",
   "nbconvert_exporter": "python",
   "pygments_lexer": "ipython3",
   "version": "3.7.1"
  }
 },
 "nbformat": 4,
 "nbformat_minor": 4
}
